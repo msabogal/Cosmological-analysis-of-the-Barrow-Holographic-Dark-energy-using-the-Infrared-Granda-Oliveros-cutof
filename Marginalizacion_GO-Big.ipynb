{
 "cells": [
  {
   "cell_type": "code",
   "execution_count": 1,
   "metadata": {},
   "outputs": [],
   "source": [
    "import numpy as np \n",
    "import matplotlib.pylab as plt \n",
    "import scipy as sc\n",
    "import pandas as pd"
   ]
  },
  {
   "cell_type": "code",
   "execution_count": 2,
   "metadata": {},
   "outputs": [],
   "source": [
    "def min_parameters(matriz,columna):\n",
    "    c=matriz[::,columna]; \n",
    "    return matriz[c.argmin(),:]"
   ]
  },
  {
   "cell_type": "code",
   "execution_count": 3,
   "metadata": {},
   "outputs": [],
   "source": [
    "def chi_min_2D(A,D,C): \n",
    "    \n",
    "    C_min=np.array([0,0,0]);\n",
    "    A_base=np.array(list(dict.fromkeys(A))); D_base=np.array(list(dict.fromkeys(D))); \n",
    "    A_base.sort(); D_base.sort(); \n",
    "\n",
    "    for i in range(0,A_base.size):\n",
    "        for j in range(0,D_base.size): \n",
    "            C0=C.max()\n",
    "            values= np.where(D==D_base[j])[0]\n",
    "            for k in range(0,values.size): \n",
    "                if A[values[k]]==A_base[i] and D_base[j]==D[values[k]]: \n",
    "                    if C[values[k]]<C0: \n",
    "                        C0 = C[values[k]]\n",
    "                    \n",
    "            C_min=np.vstack([C_min,[A_base[i],D_base[j],C0]]) \n",
    "    return C_min[1:]  "
   ]
  },
  {
   "cell_type": "code",
   "execution_count": 4,
   "metadata": {},
   "outputs": [],
   "source": [
    "def chi_min_1D(A,C): \n",
    "    C_min=np.array([0,0]);\n",
    "    A_base=np.array(list(dict.fromkeys(A))); A_base.sort();\n",
    "    \n",
    "    for i in range(0,A_base.size):\n",
    "        C0=C.max()\n",
    "        values= np.where(A==A_base[i])[0]\n",
    "        for k in range(0,values.size): \n",
    "            if A[values[k]]==A_base[i]: \n",
    "                if C[values[k]]<C0: \n",
    "                    C0 = C[values[k]]\n",
    "                    \n",
    "        C_min=np.vstack([C_min,[A_base[i],C0]]) \n",
    "    return C_min[1:]"
   ]
  },
  {
   "cell_type": "code",
   "execution_count": 5,
   "metadata": {},
   "outputs": [],
   "source": [
    "dff=pd.read_csv('/home/miguel/Documentos/Wolfram Mathematica/HDE_Barrow_GO/DATABIG.csv')"
   ]
  },
  {
   "cell_type": "code",
   "execution_count": 6,
   "metadata": {},
   "outputs": [],
   "source": [
    "data=dff.get_values()"
   ]
  },
  {
   "cell_type": "code",
   "execution_count": 7,
   "metadata": {},
   "outputs": [],
   "source": [
    "data[:,3] = data[:,3]-min_parameters(data,3)[3]"
   ]
  },
  {
   "cell_type": "code",
   "execution_count": 12,
   "metadata": {},
   "outputs": [
    {
     "data": {
      "text/plain": [
       "array([[7.00000000e-01, 3.00000000e-01, 4.00000000e-04, 6.98900180e+01],\n",
       "       [7.00000000e-01, 3.00000000e-01, 8.00000000e-04, 6.98323043e+01],\n",
       "       [7.00000000e-01, 3.00000000e-01, 1.20000000e-03, 6.97796026e+01],\n",
       "       ...,\n",
       "       [1.00000000e+00, 9.00000000e-01, 2.92000000e-02, 4.94137298e+02],\n",
       "       [1.00000000e+00, 9.00000000e-01, 2.96000000e-02, 2.34071880e+02],\n",
       "       [1.00000000e+00, 9.00000000e-01, 3.00000000e-02, 3.29540699e+02]])"
      ]
     },
     "execution_count": 12,
     "metadata": {},
     "output_type": "execute_result"
    }
   ],
   "source": [
    "data"
   ]
  },
  {
   "cell_type": "code",
   "execution_count": 11,
   "metadata": {},
   "outputs": [],
   "source": [
    "np.savetxt('/home/miguel/Documentos/Wolfram Mathematica/HDE_Barrow_GO/Data_py_big.dat',data,delimiter = ',')"
   ]
  },
  {
   "cell_type": "code",
   "execution_count": 13,
   "metadata": {},
   "outputs": [],
   "source": [
    "range_alpha=data[::,0]; range_beta=data[::,1]; range_Delta=data[::,2]; chi2_dat=data[::,3]; "
   ]
  },
  {
   "cell_type": "code",
   "execution_count": 10,
   "metadata": {},
   "outputs": [
    {
     "data": {
      "text/plain": [
       "array([1.  , 0.69, 0.  , 0.  ])"
      ]
     },
     "execution_count": 10,
     "metadata": {},
     "output_type": "execute_result"
    }
   ],
   "source": [
    "min_parameters(data,3)"
   ]
  },
  {
   "cell_type": "code",
   "execution_count": 17,
   "metadata": {},
   "outputs": [
    {
     "data": {
      "text/plain": [
       "0.6"
      ]
     },
     "execution_count": 17,
     "metadata": {},
     "output_type": "execute_result"
    }
   ],
   "source": [
    "range_beta[6956]"
   ]
  },
  {
   "cell_type": "code",
   "execution_count": 11,
   "metadata": {},
   "outputs": [],
   "source": [
    "alpha_Delta_chi2=chi_min_2D(range_alpha,range_Delta,chi2_dat)"
   ]
  },
  {
   "cell_type": "code",
   "execution_count": 12,
   "metadata": {},
   "outputs": [],
   "source": [
    "np.savetxt('/home/miguel/Documentos/Wolfram Mathematica/HDE_Barrow_GO/alpha_Delta_py_big.csv',alpha_Delta_chi2,delimiter = ',')"
   ]
  },
  {
   "cell_type": "code",
   "execution_count": 13,
   "metadata": {},
   "outputs": [],
   "source": [
    "alpha_beta_chi2=chi_min_2D(range_alpha,range_beta,chi2_dat)"
   ]
  },
  {
   "cell_type": "code",
   "execution_count": 14,
   "metadata": {},
   "outputs": [],
   "source": [
    "np.savetxt('/home/miguel/Documentos/Wolfram Mathematica/HDE_Barrow_GO/alpha_beta_py_big.csv',alpha_beta_chi2,delimiter = ',')"
   ]
  },
  {
   "cell_type": "code",
   "execution_count": 15,
   "metadata": {},
   "outputs": [],
   "source": [
    "beta_Delta_chi2=chi_min_2D(range_beta,range_Delta,chi2_dat)"
   ]
  },
  {
   "cell_type": "code",
   "execution_count": 16,
   "metadata": {},
   "outputs": [],
   "source": [
    "np.savetxt('/home/miguel/Documentos/Wolfram Mathematica/HDE_Barrow_GO/beta_Delta_py_big.csv',beta_Delta_chi2,delimiter = ',')"
   ]
  },
  {
   "cell_type": "code",
   "execution_count": 17,
   "metadata": {},
   "outputs": [
    {
     "data": {
      "text/plain": [
       "array([1.  , 0.69, 0.  ])"
      ]
     },
     "execution_count": 17,
     "metadata": {},
     "output_type": "execute_result"
    }
   ],
   "source": [
    "min_parameters(chi_min_2D(range_alpha,range_beta,chi2_dat),2)"
   ]
  },
  {
   "cell_type": "code",
   "execution_count": 18,
   "metadata": {},
   "outputs": [],
   "source": [
    "alpha_chi2=chi_min_1D(range_alpha,chi2_dat)"
   ]
  },
  {
   "cell_type": "code",
   "execution_count": 19,
   "metadata": {},
   "outputs": [],
   "source": [
    "np.savetxt('/home/miguel/Documentos/Wolfram Mathematica/HDE_Barrow_GO/alphapy_big.csv',alpha_chi2,delimiter = ',')"
   ]
  },
  {
   "cell_type": "code",
   "execution_count": 20,
   "metadata": {},
   "outputs": [],
   "source": [
    "beta_chi2=chi_min_1D(range_beta,chi2_dat)"
   ]
  },
  {
   "cell_type": "code",
   "execution_count": 21,
   "metadata": {},
   "outputs": [],
   "source": [
    "np.savetxt('/home/miguel/Documentos/Wolfram Mathematica/HDE_Barrow_GO/betapy_big.csv',beta_chi2,delimiter = ',')"
   ]
  },
  {
   "cell_type": "code",
   "execution_count": 22,
   "metadata": {},
   "outputs": [],
   "source": [
    "Delta_chi2=chi_min_1D(range_Delta,chi2_dat)"
   ]
  },
  {
   "cell_type": "code",
   "execution_count": 23,
   "metadata": {},
   "outputs": [],
   "source": [
    "np.savetxt('/home/miguel/Documentos/Wolfram Mathematica/HDE_Barrow_GO/Deltapy_big.csv',Delta_chi2,delimiter = ',')"
   ]
  },
  {
   "cell_type": "code",
   "execution_count": null,
   "metadata": {},
   "outputs": [],
   "source": []
  }
 ],
 "metadata": {
  "kernelspec": {
   "display_name": "Python 2",
   "language": "python",
   "name": "python2"
  },
  "language_info": {
   "codemirror_mode": {
    "name": "ipython",
    "version": 2
   },
   "file_extension": ".py",
   "mimetype": "text/x-python",
   "name": "python",
   "nbconvert_exporter": "python",
   "pygments_lexer": "ipython2",
   "version": "2.7.16"
  }
 },
 "nbformat": 4,
 "nbformat_minor": 2
}
