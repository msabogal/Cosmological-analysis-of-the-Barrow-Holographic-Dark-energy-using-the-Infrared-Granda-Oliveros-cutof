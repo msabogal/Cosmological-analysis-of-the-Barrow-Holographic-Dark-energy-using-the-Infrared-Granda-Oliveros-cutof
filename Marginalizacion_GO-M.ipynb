{
 "cells": [
  {
   "cell_type": "code",
   "execution_count": 1,
   "metadata": {},
   "outputs": [],
   "source": [
    "import numpy as np \n",
    "import matplotlib.pylab as plt \n",
    "import scipy as sc\n",
    "import pandas as pd"
   ]
  },
  {
   "cell_type": "code",
   "execution_count": 2,
   "metadata": {},
   "outputs": [],
   "source": [
    "def min_parameters(matriz,columna):\n",
    "    c=matriz[::,columna]; \n",
    "    return matriz[c.argmin(),:]"
   ]
  },
  {
   "cell_type": "code",
   "execution_count": 3,
   "metadata": {},
   "outputs": [],
   "source": [
    "def chi_min_2D(A,D,C): \n",
    "    \n",
    "    C_min=np.array([0,0,0]);\n",
    "    A_base=np.array(list(dict.fromkeys(A))); D_base=np.array(list(dict.fromkeys(D))); \n",
    "    A_base.sort(); D_base.sort(); \n",
    "\n",
    "    for i in range(0,A_base.size):\n",
    "        for j in range(0,D_base.size): \n",
    "            C0=C.max()\n",
    "            values= np.where(D==D_base[j])[0]\n",
    "            for k in range(0,values.size): \n",
    "                if A[values[k]]==A_base[i] and D_base[j]==D[values[k]]: \n",
    "                    if C[values[k]]<C0: \n",
    "                        C0 = C[values[k]]\n",
    "                    \n",
    "            C_min=np.vstack([C_min,[A_base[i],D_base[j],C0]]) \n",
    "    return C_min[1:]  "
   ]
  },
  {
   "cell_type": "code",
   "execution_count": 4,
   "metadata": {},
   "outputs": [],
   "source": [
    "def chi_min_1D(A,C): \n",
    "    C_min=np.array([0,0]);\n",
    "    A_base=np.array(list(dict.fromkeys(A))); A_base.sort();\n",
    "    \n",
    "    for i in range(0,A_base.size):\n",
    "        C0=C.max()\n",
    "        values= np.where(A==A_base[i])[0]\n",
    "        for k in range(0,values.size): \n",
    "            if A[values[k]]==A_base[i]: \n",
    "                if C[values[k]]<C0: \n",
    "                    C0 = C[values[k]]\n",
    "                    \n",
    "        C_min=np.vstack([C_min,[A_base[i],C0]]) \n",
    "    return C_min[1:]"
   ]
  },
  {
   "cell_type": "code",
   "execution_count": 5,
   "metadata": {},
   "outputs": [],
   "source": [
    "dff=pd.read_csv('/home/miguel/Documentos/Wolfram Mathematica/HDE_Barrow_GO/chi2M_big.csv')"
   ]
  },
  {
   "cell_type": "code",
   "execution_count": 6,
   "metadata": {},
   "outputs": [],
   "source": [
    "data=dff.get_values()"
   ]
  },
  {
   "cell_type": "code",
   "execution_count": 7,
   "metadata": {},
   "outputs": [],
   "source": [
    "data[:,1] = data[:,1]-min_parameters(data,1)[1]"
   ]
  },
  {
   "cell_type": "code",
   "execution_count": 8,
   "metadata": {},
   "outputs": [
    {
     "data": {
      "text/plain": [
       "0.0"
      ]
     },
     "execution_count": 8,
     "metadata": {},
     "output_type": "execute_result"
    }
   ],
   "source": [
    "min_parameters(data,1)[1]"
   ]
  },
  {
   "cell_type": "code",
   "execution_count": 10,
   "metadata": {},
   "outputs": [],
   "source": [
    "range_M=data[::,0]; chi2_dat=data[::,1]; "
   ]
  },
  {
   "cell_type": "code",
   "execution_count": 11,
   "metadata": {},
   "outputs": [
    {
     "data": {
      "text/plain": [
       "array([-17.097,   0.   ])"
      ]
     },
     "execution_count": 11,
     "metadata": {},
     "output_type": "execute_result"
    }
   ],
   "source": [
    "min_parameters(data,1)"
   ]
  },
  {
   "cell_type": "code",
   "execution_count": 12,
   "metadata": {},
   "outputs": [],
   "source": [
    "M_chi2=chi_min_1D(range_M,chi2_dat)"
   ]
  },
  {
   "cell_type": "code",
   "execution_count": 13,
   "metadata": {},
   "outputs": [],
   "source": [
    "np.savetxt('/home/miguel/Documentos/Wolfram Mathematica/HDE_Barrow_GO/M2_py.csv',M_chi2,delimiter = ',')"
   ]
  },
  {
   "cell_type": "markdown",
   "metadata": {},
   "source": [
    "---------------------------------------------------------------------------------------------"
   ]
  },
  {
   "cell_type": "code",
   "execution_count": 5,
   "metadata": {},
   "outputs": [],
   "source": [
    "df=pd.read_csv('/home/miguel/Documentos/Wolfram Mathematica/HDE_Barrow_GO/mb.csv')"
   ]
  },
  {
   "cell_type": "code",
   "execution_count": 6,
   "metadata": {},
   "outputs": [],
   "source": [
    "data=df.get_values()"
   ]
  },
  {
   "cell_type": "code",
   "execution_count": 7,
   "metadata": {},
   "outputs": [],
   "source": [
    "data.sort(axis=0)"
   ]
  },
  {
   "cell_type": "code",
   "execution_count": 8,
   "metadata": {},
   "outputs": [
    {
     "data": {
      "text/plain": [
       "array([[1.01200000e-02, 1.38550647e+01],\n",
       "       [1.03800000e-02, 1.39105779e+01],\n",
       "       [1.04300000e-02, 1.39210952e+01],\n",
       "       ...,\n",
       "       [1.80000000e+00, 2.63218101e+01],\n",
       "       [1.91400000e+00, 2.64852137e+01],\n",
       "       [2.26000000e+00, 2.69256117e+01]])"
      ]
     },
     "execution_count": 8,
     "metadata": {},
     "output_type": "execute_result"
    }
   ],
   "source": [
    "data"
   ]
  },
  {
   "cell_type": "code",
   "execution_count": 9,
   "metadata": {},
   "outputs": [],
   "source": [
    "np.savetxt('/home/miguel/Documentos/Wolfram Mathematica/HDE_Barrow_GO/mb_py.csv',data,delimiter = ',')"
   ]
  },
  {
   "cell_type": "code",
   "execution_count": null,
   "metadata": {},
   "outputs": [],
   "source": []
  },
  {
   "cell_type": "code",
   "execution_count": 10,
   "metadata": {},
   "outputs": [],
   "source": [
    "df2=pd.read_csv('/home/miguel/Documentos/Wolfram Mathematica/HDE_Barrow_GO/mb1sup.csv')"
   ]
  },
  {
   "cell_type": "code",
   "execution_count": 11,
   "metadata": {},
   "outputs": [],
   "source": [
    "data2=df2.get_values()"
   ]
  },
  {
   "cell_type": "code",
   "execution_count": 12,
   "metadata": {},
   "outputs": [],
   "source": [
    "data2.sort(axis=0)"
   ]
  },
  {
   "cell_type": "code",
   "execution_count": 13,
   "metadata": {},
   "outputs": [],
   "source": [
    "np.savetxt('/home/miguel/Documentos/Wolfram Mathematica/HDE_Barrow_GO/mb1sup_py.csv',data2,delimiter = ',')"
   ]
  },
  {
   "cell_type": "code",
   "execution_count": null,
   "metadata": {},
   "outputs": [],
   "source": []
  },
  {
   "cell_type": "code",
   "execution_count": 14,
   "metadata": {},
   "outputs": [],
   "source": [
    "df3=pd.read_csv('/home/miguel/Documentos/Wolfram Mathematica/HDE_Barrow_GO/mb1sdown.csv')"
   ]
  },
  {
   "cell_type": "code",
   "execution_count": 15,
   "metadata": {},
   "outputs": [],
   "source": [
    "data3=df3.get_values()"
   ]
  },
  {
   "cell_type": "code",
   "execution_count": 16,
   "metadata": {},
   "outputs": [],
   "source": [
    "data3.sort(axis=0)"
   ]
  },
  {
   "cell_type": "code",
   "execution_count": 17,
   "metadata": {},
   "outputs": [],
   "source": [
    "np.savetxt('/home/miguel/Documentos/Wolfram Mathematica/HDE_Barrow_GO/mb1sdown_py.csv',data3,delimiter = ',')"
   ]
  },
  {
   "cell_type": "code",
   "execution_count": 18,
   "metadata": {},
   "outputs": [
    {
     "data": {
      "text/plain": [
       "array([[0.   , 0.013],\n",
       "       [0.   , 0.013],\n",
       "       [0.   , 0.013],\n",
       "       ...,\n",
       "       [0.   , 0.013],\n",
       "       [0.   , 0.013],\n",
       "       [0.   , 0.013]])"
      ]
     },
     "execution_count": 18,
     "metadata": {},
     "output_type": "execute_result"
    }
   ],
   "source": [
    "np.abs(data-data2)"
   ]
  },
  {
   "cell_type": "code",
   "execution_count": 19,
   "metadata": {},
   "outputs": [
    {
     "data": {
      "text/plain": [
       "array([[0.   , 0.012],\n",
       "       [0.   , 0.012],\n",
       "       [0.   , 0.012],\n",
       "       ...,\n",
       "       [0.   , 0.012],\n",
       "       [0.   , 0.012],\n",
       "       [0.   , 0.012]])"
      ]
     },
     "execution_count": 19,
     "metadata": {},
     "output_type": "execute_result"
    }
   ],
   "source": [
    "np.abs(data-data3)"
   ]
  },
  {
   "cell_type": "code",
   "execution_count": null,
   "metadata": {},
   "outputs": [],
   "source": []
  },
  {
   "cell_type": "code",
   "execution_count": null,
   "metadata": {},
   "outputs": [],
   "source": []
  }
 ],
 "metadata": {
  "kernelspec": {
   "display_name": "Python 2",
   "language": "python",
   "name": "python2"
  },
  "language_info": {
   "codemirror_mode": {
    "name": "ipython",
    "version": 2
   },
   "file_extension": ".py",
   "mimetype": "text/x-python",
   "name": "python",
   "nbconvert_exporter": "python",
   "pygments_lexer": "ipython2",
   "version": "2.7.16"
  }
 },
 "nbformat": 4,
 "nbformat_minor": 2
}
